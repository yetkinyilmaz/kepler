{
 "cells": [
  {
   "cell_type": "markdown",
   "metadata": {},
   "source": [
    "# Machine Astrophysics"
   ]
  },
  {
   "cell_type": "markdown",
   "metadata": {},
   "source": [
    "Introductory reading:\n",
    "https://otherful.wordpress.com/2018/02/14/gozogon-an-introduction/\n",
    "\n",
    "\"The story takes place on the planet Gozogon, on an S-type orbit around Gnos in the Gnoslor binary system.\n",
    "Except that the Gozogonians know very little about this because they have not discovered the physics of celestial objects, they don’t have a simple model of gravity.\n",
    "They do however know, and can predict with precision, the location of any of the bodies they see in the sky, thanks to their supercomputer systems, interlinked across the planet wherever there is life.\n",
    "\n",
    "In contrast to Earth, physics did not rise from the motion of celestial bodies...\n",
    "... the first science to develop was not astronomy, it was biology (if we expand it to include what the Earthlings call psychology, sociology, etc). Gozogon did raise many genius scientists, only not in the directions that we had on Earth. The intricate relations between members of a species, and across species, was a more urgent matter and that was where the animals used their brains to figure out first. Going deeper, they discovered chemistry and eventually, physics of particles at smaller and smaller scales. They were able to manipulate what they learned from nature to invent and create new lifeforms, among which the distinguished entity called RedRoot rose.\""
   ]
  },
  {
   "cell_type": "code",
   "execution_count": null,
   "metadata": {
    "collapsed": true
   },
   "outputs": [],
   "source": []
  },
  {
   "cell_type": "code",
   "execution_count": null,
   "metadata": {
    "collapsed": true
   },
   "outputs": [],
   "source": []
  },
  {
   "cell_type": "markdown",
   "metadata": {},
   "source": [
    "This study explores the discovery potential of learning systems, how the data can be converted into formulas."
   ]
  },
  {
   "cell_type": "code",
   "execution_count": null,
   "metadata": {
    "collapsed": true
   },
   "outputs": [],
   "source": []
  },
  {
   "cell_type": "code",
   "execution_count": null,
   "metadata": {
    "collapsed": true
   },
   "outputs": [],
   "source": []
  },
  {
   "cell_type": "code",
   "execution_count": null,
   "metadata": {
    "collapsed": true
   },
   "outputs": [],
   "source": []
  },
  {
   "cell_type": "markdown",
   "metadata": {},
   "source": [
    "## Mars retrograde detection"
   ]
  },
  {
   "cell_type": "markdown",
   "metadata": {},
   "source": [
    "The first case study is the retrograde motion of Mars from the perspective of Earth. This is a very simple system of two co-centric, almost circular, orbits where the external one appears to be moving backwards at certain times. \n",
    "\n",
    "Such a system was an important cornerstone in the history of astrophysics, that inspired Ptolemy for his epicycles to model the system, later to be replaced by a simpler model of Copernicus."
   ]
  },
  {
   "cell_type": "code",
   "execution_count": 1,
   "metadata": {
    "collapsed": true
   },
   "outputs": [],
   "source": [
    "import numpy as np\n",
    "import pandas as pd\n",
    "\n",
    "import matplotlib.pyplot as plt\n",
    "from Visualisations import *\n",
    "\n",
    "from Transformations import *\n",
    "import Generate as gen"
   ]
  },
  {
   "cell_type": "markdown",
   "metadata": {},
   "source": [
    "### Generate system\n",
    "\n",
    "We simulate a system of two planets, rotating around a motionless sun. The orbits will be chosen to be almost circular, the challenge mostly concentrating on the retrograde motion which suggests a concentric motion of the two planets.\n",
    "We will simulate the motion in 'n_sim' time steps, and sample every 'n_view'th of those steps as an observation point."
   ]
  },
  {
   "cell_type": "code",
   "execution_count": 2,
   "metadata": {},
   "outputs": [
    {
     "name": "stdout",
     "output_type": "stream",
     "text": [
      "Adding body with spring length :  0.0\n",
      "Adding body with spring length :  14.8660687473\n",
      "Adding body with spring length :  5.0\n",
      "Adding body with spring length :  141.421356237\n",
      "Adding body with spring length :  247.491413992\n"
     ]
    }
   ],
   "source": [
    "n_sample = 100\n",
    "n_sim = 20000\n",
    "n_view = 10\n",
    "s = gen.System()\n",
    "s.force = s.force_gravity\n",
    "s.generate(2)\n",
    "s.simulate(n_sim)\n",
    "s.view(0, n_view)"
   ]
  },
  {
   "cell_type": "code",
   "execution_count": null,
   "metadata": {
    "collapsed": true
   },
   "outputs": [],
   "source": []
  },
  {
   "cell_type": "code",
   "execution_count": null,
   "metadata": {
    "collapsed": true
   },
   "outputs": [],
   "source": []
  },
  {
   "cell_type": "code",
   "execution_count": null,
   "metadata": {
    "collapsed": true
   },
   "outputs": [],
   "source": []
  },
  {
   "cell_type": "markdown",
   "metadata": {},
   "source": [
    "### Visualise the system"
   ]
  },
  {
   "cell_type": "code",
   "execution_count": 3,
   "metadata": {},
   "outputs": [
    {
     "data": {
      "image/png": "[encoded data removed]",
      "text/plain": [
       "<matplotlib.figure.Figure at 0x113189978>"
      ]
     },
     "metadata": {},
     "output_type": "display_data"
    }
   ],
   "source": [
    "ax = plt.gca()\n",
    "ax.cla() # clear things for fresh plot\n",
    "ax.cla()\n",
    "ax.set_xlim([-220,220])\n",
    "ax.set_ylim([-220,220])\n",
    "plt.axes().set_aspect('equal')\n",
    "plt.xlabel('x')\n",
    "plt.ylabel('y')\n",
    "\n",
    "# Plot only every 't_res'th point, up to t_max\n",
    "t_res = 30\n",
    "t_max = 800\n",
    "plot_orbit(ax, s, 0)\n",
    "plot_orbit(ax, s, 1)\n",
    "plot_orbit(ax, s, 2)\n",
    "plot_orbit(ax, s, 3)\n",
    "plot_orbit(ax, s, 4)\n",
    "plot_position(ax, s, 0, t_res, t_max)\n",
    "plot_position(ax, s, 1, t_res, t_max)\n",
    "plot_position(ax, s, 2, t_res, t_max)\n",
    "plot_position(ax, s, 3, t_res, t_max)\n",
    "plot_position(ax, s, 4, t_res, t_max)\n",
    "#plot_observation(ax,s,0,-1,t_res)\n",
    "plot_observation(ax,s,1,0,t_res, t_max)\n",
    "\n",
    "plt.show()\n",
    "plt.savefig(\"orbits.png\")"
   ]
  },
  {
   "cell_type": "code",
   "execution_count": null,
   "metadata": {
    "collapsed": true
   },
   "outputs": [],
   "source": []
  },
  {
   "cell_type": "code",
   "execution_count": null,
   "metadata": {
    "collapsed": true
   },
   "outputs": [],
   "source": []
  },
  {
   "cell_type": "markdown",
   "metadata": {},
   "source": [
    "### Observe the planet angle"
   ]
  },
  {
   "cell_type": "code",
   "execution_count": 46,
   "metadata": {},
   "outputs": [
    {
     "data": {
      "image/png": "[encoded data removed]",
      "text/plain": [
       "<matplotlib.figure.Figure at 0x12a64a2e8>"
      ]
     },
     "metadata": {},
     "output_type": "display_data"
    }
   ],
   "source": [
    "ax = plt.gca()\n",
    "ax.cla() # clear things for fresh plot\n",
    "ax.cla()\n",
    "ax.set_xlim([0,n_sim])\n",
    "ax.set_ylim([-4.,4.])\n",
    "plt.xlabel('time')\n",
    "plt.ylabel('$\\phi$')\n",
    "\n",
    "\n",
    "phis = s.get_phi(1)\n",
    "t = np.arange(0, n_sim/n_view)*n_view\n",
    "\n",
    "plt.plot(t, phis)\n",
    "plt.show()\n",
    "plt.savefig(\"angle_of_mars.png\")"
   ]
  },
  {
   "cell_type": "code",
   "execution_count": null,
   "metadata": {
    "collapsed": true
   },
   "outputs": [],
   "source": []
  },
  {
   "cell_type": "code",
   "execution_count": null,
   "metadata": {
    "collapsed": true
   },
   "outputs": [],
   "source": []
  },
  {
   "cell_type": "markdown",
   "metadata": {},
   "source": [
    "### Fit with a Ptolemian Model"
   ]
  },
  {
   "cell_type": "code",
   "execution_count": 47,
   "metadata": {
    "collapsed": true
   },
   "outputs": [],
   "source": [
    "import numpy as np\n",
    "import pandas as pd\n",
    "import matplotlib.pyplot as plt"
   ]
  },
  {
   "cell_type": "code",
   "execution_count": 48,
   "metadata": {
    "collapsed": true
   },
   "outputs": [],
   "source": [
    "# Analytic description of epicycles with radius a and rotation speed w at time t\n",
    "# t must not be an array\n",
    "\n",
    "def f_x(a, w, p, t):\n",
    "    return np.sum(a * np.cos(w * t + p))\n",
    "\n",
    "def f_y(a, w, p, t):\n",
    "    return np.sum(a * np.sin(w * t + p))\n",
    "\n",
    "def f_phi(a, w, p, t):\n",
    "    return np.arctan2(f_y(a, w, p, t), f_x(a, w, p, t))"
   ]
  },
  {
   "cell_type": "code",
   "execution_count": 49,
   "metadata": {
    "collapsed": true
   },
   "outputs": [],
   "source": [
    "#a = np.array([5., 3., 0.5])\n",
    "#w = np.array([0.5, 2., 7.])\n",
    "#p = np.array([0., 0., 0.])\n",
    "#phi = [f_phi(a, w, p, i) for i in t]\n",
    "#plt.plot(t, phi)\n",
    "#plt.show()"
   ]
  },
  {
   "cell_type": "code",
   "execution_count": 50,
   "metadata": {
    "collapsed": true
   },
   "outputs": [],
   "source": [
    "from scipy.optimize import minimize"
   ]
  },
  {
   "cell_type": "code",
   "execution_count": 51,
   "metadata": {
    "collapsed": true
   },
   "outputs": [],
   "source": [
    "def epicycle_error(c):\n",
    "    a = c[0::3]\n",
    "    w = c[1::3]\n",
    "    p = c[2::3]\n",
    "    phi_epi = [f_phi(a, w, p, i) for i in range(n_sample)]\n",
    "    return np.sum((np.unwrap(y_fit - phi_epi))**2)"
   ]
  },
  {
   "cell_type": "code",
   "execution_count": 52,
   "metadata": {},
   "outputs": [],
   "source": [
    "y_fit = phis[0:n_sample]\n",
    "c0 = np.array( [21,   0.00153,  -0.3, 27,   0.00111,   0.01])\n",
    "#c0 = np.array([74., 0.0014, 0., 87.,  0.0010, 0.])\n",
    "a_bnds = (70., 100.)\n",
    "w_bnds = (0.0007, 0.0016)\n",
    "p_bnds = (0., np.pi/2.)\n",
    "bnds = (a_bnds, w_bnds, p_bnds, a_bnds,  w_bnds, p_bnds)\n",
    "#res = minimize(fun=epicycle_error, x0=c0,\n",
    "#               method='Nelder-Mead', tol=1e-8,\n",
    "#               bounds=bnds,\n",
    "#               options={'xtol': 0.001, 'eps': 0.02, 'maxiter': 100000})"
   ]
  },
  {
   "cell_type": "code",
   "execution_count": 45,
   "metadata": {},
   "outputs": [
    {
     "data": {
      "image/png": "[encoded data removed]",
      "text/plain": [
       "<matplotlib.figure.Figure at 0x1299eec18>"
      ]
     },
     "metadata": {},
     "output_type": "display_data"
    }
   ],
   "source": [
    "c = res.x    \n",
    "a = c[0::3]\n",
    "w = c[1::3]\n",
    "p = c[2::3]\n",
    "phi_epi = [f_phi(a, w, p, i) for i in t]\n",
    "plt.scatter(t, phis)\n",
    "plt.plot(t, phi_epi, color='r', linestyle='dashed')\n",
    "plt.savefig(\"ptolemian_mars.png\")\n",
    "plt.show()"
   ]
  },
  {
   "cell_type": "code",
   "execution_count": 43,
   "metadata": {},
   "outputs": [
    {
     "data": {
      "text/plain": [
       "array([  7.35787968e+01,  -7.08738268e-11,   1.02679084e+00,\n",
       "         1.97565836e-06,   2.97278261e-03,   1.38855335e-02])"
      ]
     },
     "execution_count": 43,
     "metadata": {},
     "output_type": "execute_result"
    }
   ],
   "source": [
    "res.x"
   ]
  },
  {
   "cell_type": "code",
   "execution_count": 13,
   "metadata": {},
   "outputs": [
    {
     "data": {
      "text/plain": [
       " final_simplex: (array([[  7.02799464e-09,  -1.48265370e-03,   2.25844289e-02,\n",
       "         -6.59330576e-09,  -5.84852744e-03,   1.40134489e-03],\n",
       "       [  1.03658658e-08,  -1.48265370e-03,   2.25844289e-02,\n",
       "         -9.72472635e-09,  -5.84852744e-03,   1.40134489e-03],\n",
       "       [  6.36874538e-09,  -1.48265370e-03,   2.25844289e-02,\n",
       "         -5.97483204e-09,  -5.84852744e-03,   1.40134489e-03],\n",
       "       [  1.54274807e-08,  -1.48265370e-03,   2.25844289e-02,\n",
       "         -1.44732749e-08,  -5.84852744e-03,   1.40134489e-03],\n",
       "       [  1.53081872e-08,  -1.48265370e-03,   2.25844289e-02,\n",
       "         -1.43613598e-08,  -5.84852744e-03,   1.40134489e-03],\n",
       "       [  1.44904668e-08,  -1.48265370e-03,   2.25844289e-02,\n",
       "         -1.35942166e-08,  -5.84852744e-03,   1.40134489e-03],\n",
       "       [  1.65029953e-08,  -1.48265370e-03,   2.25844289e-02,\n",
       "         -1.54822681e-08,  -5.84852744e-03,   1.40134489e-03]]), array([ 1.93515269,  1.93515269,  1.93515269,  1.93515269,  1.93515269,\n",
       "        1.93515269,  1.93515269]))\n",
       "           fun: 1.9351526937829635\n",
       "       message: 'Optimization terminated successfully.'\n",
       "          nfev: 1398\n",
       "           nit: 850\n",
       "        status: 0\n",
       "       success: True\n",
       "             x: array([  7.02799464e-09,  -1.48265370e-03,   2.25844289e-02,\n",
       "        -6.59330576e-09,  -5.84852744e-03,   1.40134489e-03])"
      ]
     },
     "execution_count": 13,
     "metadata": {},
     "output_type": "execute_result"
    }
   ],
   "source": [
    "res"
   ]
  },
  {
   "cell_type": "code",
   "execution_count": null,
   "metadata": {
    "collapsed": true
   },
   "outputs": [],
   "source": []
  },
  {
   "cell_type": "code",
   "execution_count": null,
   "metadata": {
    "collapsed": true
   },
   "outputs": [],
   "source": []
  },
  {
   "cell_type": "code",
   "execution_count": null,
   "metadata": {
    "collapsed": true
   },
   "outputs": [],
   "source": []
  },
  {
   "cell_type": "code",
   "execution_count": 14,
   "metadata": {},
   "outputs": [
    {
     "data": {
      "image/png": "[encoded data removed]",
      "text/plain": [
       "<matplotlib.figure.Figure at 0x11847c2b0>"
      ]
     },
     "metadata": {},
     "output_type": "display_data"
    }
   ],
   "source": [
    "# fit by hand\n",
    "c = np.array( [21,   0.00153,  -0.3, 27,   0.00111,   0.01])\n",
    "a = c[0::3]\n",
    "w = c[1::3]\n",
    "p = c[2::3]\n",
    "phi_epi = [f_phi(a, w, p, i) for i in t]\n",
    "plt.scatter(t, phis)\n",
    "plt.plot(t, phi_epi, color='r', linestyle='dashed')\n",
    "plt.show()"
   ]
  },
  {
   "cell_type": "code",
   "execution_count": 15,
   "metadata": {},
   "outputs": [
    {
     "data": {
      "text/plain": [
       "array([-0.3 ,  0.01])"
      ]
     },
     "execution_count": 15,
     "metadata": {},
     "output_type": "execute_result"
    }
   ],
   "source": [
    "p"
   ]
  },
  {
   "cell_type": "code",
   "execution_count": null,
   "metadata": {
    "collapsed": true
   },
   "outputs": [],
   "source": []
  },
  {
   "cell_type": "code",
   "execution_count": null,
   "metadata": {
    "collapsed": true
   },
   "outputs": [],
   "source": []
  },
  {
   "cell_type": "code",
   "execution_count": null,
   "metadata": {
    "collapsed": true
   },
   "outputs": [],
   "source": []
  },
  {
   "cell_type": "code",
   "execution_count": null,
   "metadata": {
    "collapsed": true
   },
   "outputs": [],
   "source": []
  },
  {
   "cell_type": "code",
   "execution_count": null,
   "metadata": {
    "collapsed": true
   },
   "outputs": [],
   "source": []
  },
  {
   "cell_type": "code",
   "execution_count": null,
   "metadata": {
    "collapsed": true
   },
   "outputs": [],
   "source": []
  },
  {
   "cell_type": "code",
   "execution_count": null,
   "metadata": {
    "collapsed": true
   },
   "outputs": [],
   "source": []
  },
  {
   "cell_type": "code",
   "execution_count": null,
   "metadata": {
    "collapsed": true
   },
   "outputs": [],
   "source": []
  },
  {
   "cell_type": "code",
   "execution_count": null,
   "metadata": {
    "collapsed": true
   },
   "outputs": [],
   "source": []
  },
  {
   "cell_type": "markdown",
   "metadata": {},
   "source": [
    "### Predict the planet angle from time series with LSTM"
   ]
  },
  {
   "cell_type": "code",
   "execution_count": 16,
   "metadata": {},
   "outputs": [
    {
     "name": "stderr",
     "output_type": "stream",
     "text": [
      "Using TensorFlow backend.\n"
     ]
    }
   ],
   "source": [
    "import matplotlib.pyplot as plt\n",
    "import pandas\n",
    "import math\n",
    "from keras.models import Sequential\n",
    "from keras.models import Model\n",
    "from keras.layers import Input, Dense\n",
    "from keras.layers import LSTM\n",
    "from sklearn.preprocessing import MinMaxScaler\n",
    "from sklearn.metrics import mean_squared_error"
   ]
  },
  {
   "cell_type": "code",
   "execution_count": 17,
   "metadata": {
    "collapsed": true
   },
   "outputs": [],
   "source": [
    "#scaler = MinMaxScaler(feature_range=(0, 1))\n",
    "#dataset = scaler.fit_transform(s.get_phi(1).reshape(-1, 1))"
   ]
  },
  {
   "cell_type": "code",
   "execution_count": 18,
   "metadata": {
    "collapsed": true
   },
   "outputs": [],
   "source": [
    "def make_time_series(dataset, look_back=1):\n",
    "    n_feat = dataset.shape[1]\n",
    "    x, y = np.ndarray(shape=(0, look_back, n_feat)), np.array([])\n",
    "    length = len(dataset) - look_back - 1\n",
    "    for i in range(length):\n",
    "        a = dataset[i:(i + look_back)].reshape(-1, look_back, n_feat)\n",
    "        x = np.concatenate((x, a), axis=0)\n",
    "        y = np.concatenate((y, [dataset[i + look_back, 0]]), axis=0)\n",
    "#    x = np.reshape(x, (x.shape[0], look_back, x.shape[1]))\n",
    "    return x, y\n",
    "\n",
    "# reshape input to be [samples, time steps, features]\n",
    "\n",
    "test = s.get_phi(1).reshape(-1, 1) / np.pi\n",
    "x, y = make_time_series(test, n_sample)\n",
    "#x = np.reshape(x, (x.shape[0], 1, x.shape[1]))"
   ]
  },
  {
   "cell_type": "code",
   "execution_count": null,
   "metadata": {
    "collapsed": true
   },
   "outputs": [],
   "source": []
  },
  {
   "cell_type": "code",
   "execution_count": 19,
   "metadata": {},
   "outputs": [
    {
     "data": {
      "text/plain": [
       "(1899, 100, 1)"
      ]
     },
     "execution_count": 19,
     "metadata": {},
     "output_type": "execute_result"
    }
   ],
   "source": [
    "x.shape"
   ]
  },
  {
   "cell_type": "code",
   "execution_count": 20,
   "metadata": {},
   "outputs": [
    {
     "data": {
      "text/plain": [
       "1899"
      ]
     },
     "execution_count": 20,
     "metadata": {},
     "output_type": "execute_result"
    }
   ],
   "source": [
    "x.shape[0]"
   ]
  },
  {
   "cell_type": "code",
   "execution_count": 21,
   "metadata": {},
   "outputs": [
    {
     "data": {
      "text/plain": [
       "1899"
      ]
     },
     "execution_count": 21,
     "metadata": {},
     "output_type": "execute_result"
    }
   ],
   "source": [
    "len(y)"
   ]
  },
  {
   "cell_type": "code",
   "execution_count": 26,
   "metadata": {},
   "outputs": [
    {
     "data": {
      "text/plain": [
       "470"
      ]
     },
     "execution_count": 26,
     "metadata": {},
     "output_type": "execute_result"
    }
   ],
   "source": [
    "94*5"
   ]
  },
  {
   "cell_type": "code",
   "execution_count": null,
   "metadata": {
    "collapsed": true
   },
   "outputs": [],
   "source": []
  },
  {
   "cell_type": "code",
   "execution_count": 53,
   "metadata": {},
   "outputs": [
    {
     "name": "stdout",
     "output_type": "stream",
     "text": [
      "Epoch 1/1\n",
      "360s - loss: 0.0655\n"
     ]
    },
    {
     "data": {
      "text/plain": [
       "<keras.callbacks.History at 0x12b4d1668>"
      ]
     },
     "execution_count": 53,
     "metadata": {},
     "output_type": "execute_result"
    }
   ],
   "source": [
    "# create and fit the LSTM network\n",
    "#model = Sequential()\n",
    "#model.add(LSTM(4, input_shape=(1, look_back)))\n",
    "#model.add(Dense(1))\n",
    "#model.compile(loss='mean_squared_error', optimizer='adam')\n",
    "#model.fit(x, y, epochs=5, batch_size=1, verbose=2)\n",
    "\n",
    "inputs = Input(shape=(n_sample, 1), dtype='float', name='main_input')\n",
    "#inputs = Input(shape=(1, n), dtype='float', name='main_input')\n",
    "# why not (n, 1) ?\n",
    "# CHECK THIS! FEATURES VS TIMESTEPS\n",
    "\n",
    "layer = LSTM(8)(inputs)\n",
    "predictions = Dense(1)(layer)\n",
    "model = Model(inputs=inputs, outputs=predictions)\n",
    "model.compile(optimizer='adam',\n",
    "              loss='mean_squared_error')\n",
    "\n",
    "model.fit(x, y, epochs=1, batch_size=1, verbose=2)\n"
   ]
  },
  {
   "cell_type": "code",
   "execution_count": 54,
   "metadata": {
    "collapsed": true
   },
   "outputs": [],
   "source": [
    "y_pred = model.predict(x) * np.pi\n",
    "y_true = y * np.pi"
   ]
  },
  {
   "cell_type": "code",
   "execution_count": 55,
   "metadata": {},
   "outputs": [
    {
     "data": {
      "image/png": "[encoded data removed]",
      "text/plain": [
       "<matplotlib.figure.Figure at 0x12a7476d8>"
      ]
     },
     "metadata": {},
     "output_type": "display_data"
    },
    {
     "data": {
      "text/plain": [
       "<matplotlib.figure.Figure at 0x12bdd4e80>"
      ]
     },
     "metadata": {},
     "output_type": "display_data"
    }
   ],
   "source": [
    "ax = plt.gca()\n",
    "ax.cla() # clear things for fresh plot\n",
    "ax.cla()\n",
    "ax.set_xlim([0,n_sim])\n",
    "ax.set_ylim([-4.,4.])\n",
    "plt.xlabel('time')\n",
    "plt.ylabel('$\\phi$')\n",
    "plt.plot(t[:len(y_pred)], y_true, color='b')\n",
    "plt.plot(t[:len(y_pred)], y_pred, color='r', linestyle='dotted')\n",
    "\n",
    "phi_epi = [f_phi(a, w, p, i) for i in t]\n",
    "plt.plot(t[:len(y_pred)], phi_epi[n_sample:n_sample + len(y_pred)], color='r', linestyle='dashed')\n",
    "plt.show()\n",
    "\n",
    "plt.savefig(\"predicted_lstm.png\")\n",
    "plt.show()"
   ]
  },
  {
   "cell_type": "code",
   "execution_count": null,
   "metadata": {
    "collapsed": true
   },
   "outputs": [],
   "source": []
  },
  {
   "cell_type": "code",
   "execution_count": null,
   "metadata": {
    "collapsed": true
   },
   "outputs": [],
   "source": []
  },
  {
   "cell_type": "code",
   "execution_count": null,
   "metadata": {
    "collapsed": true
   },
   "outputs": [],
   "source": []
  },
  {
   "cell_type": "code",
   "execution_count": null,
   "metadata": {
    "collapsed": true
   },
   "outputs": [],
   "source": []
  },
  {
   "cell_type": "code",
   "execution_count": null,
   "metadata": {
    "collapsed": true
   },
   "outputs": [],
   "source": []
  },
  {
   "cell_type": "code",
   "execution_count": null,
   "metadata": {
    "collapsed": true
   },
   "outputs": [],
   "source": []
  },
  {
   "cell_type": "code",
   "execution_count": null,
   "metadata": {
    "collapsed": true
   },
   "outputs": [],
   "source": []
  },
  {
   "cell_type": "code",
   "execution_count": null,
   "metadata": {
    "collapsed": true
   },
   "outputs": [],
   "source": []
  },
  {
   "cell_type": "markdown",
   "metadata": {},
   "source": [
    "### Long time extrapolation"
   ]
  },
  {
   "cell_type": "code",
   "execution_count": 56,
   "metadata": {
    "collapsed": true
   },
   "outputs": [],
   "source": [
    "phis = s.get_phi(1).reshape(-1,1)\n",
    "x, y = make_time_series(phis/np.pi, n_sample)\n",
    "xx = np.reshape(x[0], newshape=(-1, n_sample, n_feat))\n",
    "y_ex = np.zeros(len(y))\n",
    "\n",
    "for i in np.arange(0,len(y)):\n",
    "    new_y = model.predict(xx)\n",
    "    y_ex[i] = new_y\n",
    "    xx = np.concatenate((xx, np.reshape(new_y,newshape=(-1, 1, n_feat))), axis=1)\n",
    "    xx = xx[:,1:n_sample+1]\n"
   ]
  },
  {
   "cell_type": "code",
   "execution_count": 57,
   "metadata": {},
   "outputs": [
    {
     "data": {
      "image/png": "[encoded data removed]",
      "text/plain": [
       "<matplotlib.figure.Figure at 0x12b70a9e8>"
      ]
     },
     "metadata": {},
     "output_type": "display_data"
    }
   ],
   "source": [
    "y_pred = y_ex * np.pi\n",
    "y_true = y * np.pi\n",
    "ax = plt.gca()\n",
    "ax.cla() # clear things for fresh plot\n",
    "ax.cla()\n",
    "ax.set_xlim([0,100])\n",
    "ax.set_ylim([-4.,4.])\n",
    "plt.xlabel('time')\n",
    "plt.ylabel('$\\phi$')\n",
    "plt.plot(range(len(y_pred)), y_true, color='b')\n",
    "plt.plot(range(len(y_pred)), y_pred, color='r', linestyle='dashed')\n",
    "plt.savefig(\"extrapolated_mars.png\")\n",
    "plt.show()"
   ]
  },
  {
   "cell_type": "markdown",
   "metadata": {},
   "source": [
    "obviously fails... yet..."
   ]
  },
  {
   "cell_type": "code",
   "execution_count": null,
   "metadata": {
    "collapsed": true
   },
   "outputs": [],
   "source": []
  },
  {
   "cell_type": "markdown",
   "metadata": {},
   "source": [
    "## Complex planetary system"
   ]
  },
  {
   "cell_type": "markdown",
   "metadata": {},
   "source": [
    "Now we move to the system Gnos, where the motion of the celestial bodies is more confusing and harder to figure out."
   ]
  },
  {
   "cell_type": "code",
   "execution_count": null,
   "metadata": {
    "collapsed": true
   },
   "outputs": [],
   "source": [
    "import numpy as np\n",
    "import pandas as pd\n",
    "\n",
    "import matplotlib.pyplot as plt\n",
    "from Visualisations import *\n",
    "\n",
    "from Transformations import *\n",
    "import Generate as gen"
   ]
  },
  {
   "cell_type": "code",
   "execution_count": null,
   "metadata": {
    "collapsed": true
   },
   "outputs": [],
   "source": [
    "n_sim = 20000\n",
    "n_view = 10\n",
    "s = gen.System()\n",
    "s.force = s.force_double_sun\n",
    "s.add_body(x=[90., 82.], v=[-0.02, +0.067], m=0.00001)\n",
    "s.add_body(x=[70., 123.], v=[-0.07, +0.07], m=0.00001)\n",
    "s.add_body(x=[144., 76.], v=[-0.075, +0.075], m=0.00001)\n",
    "s.add_body(x=[174., 176.], v=[-0.025, +0.035], m=0.00001)\n",
    "s.add_body(x=[0., 0.], v=[0., 0.], m=1.)\n",
    "s.simulate(n_sim)\n",
    "s.view(0, n_view)"
   ]
  },
  {
   "cell_type": "code",
   "execution_count": null,
   "metadata": {
    "collapsed": true
   },
   "outputs": [],
   "source": []
  },
  {
   "cell_type": "markdown",
   "metadata": {},
   "source": [
    "### Visualise the system"
   ]
  },
  {
   "cell_type": "code",
   "execution_count": 34,
   "metadata": {},
   "outputs": [
    {
     "data": {
      "image/png": "[encoded data removed]",
      "text/plain": [
       "<matplotlib.figure.Figure at 0x12a477080>"
      ]
     },
     "metadata": {},
     "output_type": "display_data"
    }
   ],
   "source": [
    "ax = plt.gca()\n",
    "ax.cla() # clear things for fresh plot\n",
    "ax.cla()\n",
    "ax.set_xlim([-220,220])\n",
    "ax.set_ylim([-220,220])\n",
    "plt.axes().set_aspect('equal')\n",
    "plt.xlabel('x (mm)')\n",
    "plt.ylabel('y (mm)')\n",
    "\n",
    "# Plot only every 't_res'th point, up to t_max\n",
    "t_res = 20\n",
    "t_max = 1200\n",
    "plot_orbit(ax, s, 0, t_max)\n",
    "plot_orbit(ax, s, 1, t_max)\n",
    "plot_position(ax, s, 0, t_res, t_max)\n",
    "plot_position(ax, s, 1, t_res, t_max)\n",
    "#plot_observation(ax,s,0,-1,t_res)\n",
    "plot_observation(ax,s,1,0,t_res, t_max)\n",
    "plt.savefig(\"orbits_binary.png\")\n",
    "plt.show()"
   ]
  },
  {
   "cell_type": "code",
   "execution_count": 35,
   "metadata": {},
   "outputs": [
    {
     "data": {
      "image/png": "[encoded data removed]",
      "text/plain": [
       "<matplotlib.figure.Figure at 0x12a5c42e8>"
      ]
     },
     "metadata": {},
     "output_type": "display_data"
    }
   ],
   "source": [
    "ax = plt.gca()\n",
    "ax.cla() # clear things for fresh plot\n",
    "ax.cla()\n",
    "ax.set_xlim([0,n_sim])\n",
    "ax.set_ylim([-4.,4.])\n",
    "plt.xlabel('time')\n",
    "plt.ylabel('$\\phi$')\n",
    "\n",
    "\n",
    "phis = s.get_phi(1)\n",
    "t = np.arange(0, n_sim/n_view)*n_view\n",
    "\n",
    "plt.plot(t, phis)\n",
    "plt.savefig(\"mars_angle_binary.png\")\n",
    "plt.show()"
   ]
  },
  {
   "cell_type": "code",
   "execution_count": 36,
   "metadata": {},
   "outputs": [
    {
     "ename": "NameError",
     "evalue": "name 'n' is not defined",
     "output_type": "error",
     "traceback": [
      "\u001b[0;31m---------------------------------------------------------------------------\u001b[0m",
      "\u001b[0;31mNameError\u001b[0m                                 Traceback (most recent call last)",
      "\u001b[0;32m<ipython-input-36-a7a22319b389>\u001b[0m in \u001b[0;36m<module>\u001b[0;34m()\u001b[0m\n\u001b[1;32m      1\u001b[0m \u001b[0mphis\u001b[0m \u001b[0;34m=\u001b[0m \u001b[0ms\u001b[0m\u001b[0;34m.\u001b[0m\u001b[0mget_phi\u001b[0m\u001b[0;34m(\u001b[0m\u001b[0;36m1\u001b[0m\u001b[0;34m)\u001b[0m\u001b[0;34m\u001b[0m\u001b[0m\n\u001b[1;32m      2\u001b[0m \u001b[0mphis\u001b[0m \u001b[0;34m/=\u001b[0m \u001b[0mnp\u001b[0m\u001b[0;34m.\u001b[0m\u001b[0mpi\u001b[0m\u001b[0;34m\u001b[0m\u001b[0m\n\u001b[0;32m----> 3\u001b[0;31m \u001b[0mseries\u001b[0m \u001b[0;34m=\u001b[0m \u001b[0mmake_time_series\u001b[0m\u001b[0;34m(\u001b[0m\u001b[0mphis\u001b[0m\u001b[0;34m,\u001b[0m \u001b[0mdepth\u001b[0m\u001b[0;34m=\u001b[0m\u001b[0mn\u001b[0m\u001b[0;34m+\u001b[0m\u001b[0;36m1\u001b[0m\u001b[0;34m)\u001b[0m\u001b[0;34m\u001b[0m\u001b[0m\n\u001b[0m\u001b[1;32m      4\u001b[0m \u001b[0my\u001b[0m \u001b[0;34m=\u001b[0m \u001b[0mseries\u001b[0m\u001b[0;34m[\u001b[0m\u001b[0;34m:\u001b[0m\u001b[0;34m,\u001b[0m\u001b[0mn\u001b[0m\u001b[0;34m]\u001b[0m\u001b[0;34m.\u001b[0m\u001b[0mreshape\u001b[0m\u001b[0;34m(\u001b[0m\u001b[0;34m-\u001b[0m\u001b[0;36m1\u001b[0m\u001b[0;34m,\u001b[0m\u001b[0;36m1\u001b[0m\u001b[0;34m)\u001b[0m\u001b[0;34m\u001b[0m\u001b[0m\n\u001b[1;32m      5\u001b[0m \u001b[0mx\u001b[0m \u001b[0;34m=\u001b[0m \u001b[0mseries\u001b[0m\u001b[0;34m[\u001b[0m\u001b[0;34m:\u001b[0m\u001b[0;34m,\u001b[0m\u001b[0;36m0\u001b[0m\u001b[0;34m:\u001b[0m\u001b[0mn\u001b[0m\u001b[0;34m]\u001b[0m\u001b[0;34m.\u001b[0m\u001b[0mreshape\u001b[0m\u001b[0;34m(\u001b[0m\u001b[0;34m-\u001b[0m\u001b[0;36m1\u001b[0m\u001b[0;34m,\u001b[0m\u001b[0mn\u001b[0m\u001b[0;34m)\u001b[0m\u001b[0;34m\u001b[0m\u001b[0m\n",
      "\u001b[0;31mNameError\u001b[0m: name 'n' is not defined"
     ]
    }
   ],
   "source": [
    "phis = s.get_phi(1)\n",
    "phis /= np.pi\n",
    "series = make_time_series(phis, depth=n+1)\n",
    "y = series[:,n].reshape(-1,1)\n",
    "x = series[:,0:n].reshape(-1,n)"
   ]
  },
  {
   "cell_type": "code",
   "execution_count": null,
   "metadata": {
    "collapsed": true
   },
   "outputs": [],
   "source": [
    "from keras.layers import Input, Dense\n",
    "from keras.models import Model\n",
    "\n",
    "inputs = Input(shape=(n,), dtype='float', name='main_input')\n",
    "layer = Dense(90, activation='relu', kernel_initializer='normal')(inputs)\n",
    "layer = Dense(90, activation='relu', kernel_initializer='normal')(layer)\n",
    "predictions = Dense(1, kernel_initializer='normal')(layer)\n",
    "model = Model(inputs=inputs, outputs=predictions)\n",
    "model.compile(optimizer='adam',\n",
    "              loss='mean_squared_error')\n",
    "\n",
    "model.fit(x, y)"
   ]
  },
  {
   "cell_type": "code",
   "execution_count": 37,
   "metadata": {},
   "outputs": [
    {
     "ename": "NameError",
     "evalue": "name 'n' is not defined",
     "output_type": "error",
     "traceback": [
      "\u001b[0;31m---------------------------------------------------------------------------\u001b[0m",
      "\u001b[0;31mNameError\u001b[0m                                 Traceback (most recent call last)",
      "\u001b[0;32m<ipython-input-37-b79438ba59e0>\u001b[0m in \u001b[0;36m<module>\u001b[0;34m()\u001b[0m\n\u001b[1;32m      1\u001b[0m \u001b[0mt_max\u001b[0m \u001b[0;34m=\u001b[0m \u001b[0;36m10000\u001b[0m\u001b[0;34m\u001b[0m\u001b[0m\n\u001b[1;32m      2\u001b[0m \u001b[0mphis\u001b[0m \u001b[0;34m=\u001b[0m \u001b[0ms\u001b[0m\u001b[0;34m.\u001b[0m\u001b[0mget_phi\u001b[0m\u001b[0;34m(\u001b[0m\u001b[0;36m1\u001b[0m\u001b[0;34m)\u001b[0m\u001b[0;34m/\u001b[0m\u001b[0mnp\u001b[0m\u001b[0;34m.\u001b[0m\u001b[0mpi\u001b[0m\u001b[0;34m\u001b[0m\u001b[0m\n\u001b[0;32m----> 3\u001b[0;31m \u001b[0mseries\u001b[0m \u001b[0;34m=\u001b[0m \u001b[0mmake_time_series\u001b[0m\u001b[0;34m(\u001b[0m\u001b[0mphis\u001b[0m\u001b[0;34m,\u001b[0m \u001b[0mdepth\u001b[0m\u001b[0;34m=\u001b[0m\u001b[0mn\u001b[0m\u001b[0;34m+\u001b[0m\u001b[0;36m1\u001b[0m\u001b[0;34m)\u001b[0m\u001b[0;34m\u001b[0m\u001b[0m\n\u001b[0m\u001b[1;32m      4\u001b[0m \u001b[0my\u001b[0m \u001b[0;34m=\u001b[0m \u001b[0mseries\u001b[0m\u001b[0;34m[\u001b[0m\u001b[0;34m:\u001b[0m\u001b[0mt_max\u001b[0m\u001b[0;34m,\u001b[0m\u001b[0mn\u001b[0m\u001b[0;34m]\u001b[0m\u001b[0;34m.\u001b[0m\u001b[0mreshape\u001b[0m\u001b[0;34m(\u001b[0m\u001b[0;34m-\u001b[0m\u001b[0;36m1\u001b[0m\u001b[0;34m,\u001b[0m\u001b[0;36m1\u001b[0m\u001b[0;34m)\u001b[0m\u001b[0;34m\u001b[0m\u001b[0m\n\u001b[1;32m      5\u001b[0m \u001b[0mx\u001b[0m \u001b[0;34m=\u001b[0m \u001b[0mseries\u001b[0m\u001b[0;34m[\u001b[0m\u001b[0;34m:\u001b[0m\u001b[0mt_max\u001b[0m\u001b[0;34m,\u001b[0m\u001b[0;36m0\u001b[0m\u001b[0;34m:\u001b[0m\u001b[0mn\u001b[0m\u001b[0;34m]\u001b[0m\u001b[0;34m.\u001b[0m\u001b[0mreshape\u001b[0m\u001b[0;34m(\u001b[0m\u001b[0;34m-\u001b[0m\u001b[0;36m1\u001b[0m\u001b[0;34m,\u001b[0m\u001b[0mn\u001b[0m\u001b[0;34m)\u001b[0m\u001b[0;34m\u001b[0m\u001b[0m\n",
      "\u001b[0;31mNameError\u001b[0m: name 'n' is not defined"
     ]
    }
   ],
   "source": [
    "t_max = 10000\n",
    "phis = s.get_phi(1)/np.pi\n",
    "series = make_time_series(phis, depth=n+1)\n",
    "y = series[:t_max,n].reshape(-1,1)\n",
    "x = series[:t_max,0:n].reshape(-1,n)\n",
    "y_pred = model.predict(x) * np.pi\n",
    "y_true = y * np.pi\n",
    "ax = plt.gca()\n",
    "ax.cla() # clear things for fresh plot\n",
    "ax.cla()\n",
    "ax.set_xlim([0,t_max])\n",
    "ax.set_ylim([-4.,4.])\n",
    "plt.xlabel('time')\n",
    "plt.ylabel('$\\phi$')\n",
    "plt.plot(t[:len(y_pred)], y_true, color='b')\n",
    "plt.plot(t[:len(y_pred)], y_pred, color='r', linestyle='dashed')\n",
    "plt.savefig(\"prediction_mars_binary.png\")\n",
    "plt.show()"
   ]
  },
  {
   "cell_type": "code",
   "execution_count": null,
   "metadata": {
    "collapsed": true
   },
   "outputs": [],
   "source": [
    "phis = s.get_phi(3)/np.pi\n",
    "series = make_time_series(phis, depth=n+1)\n",
    "y = series[:,n].reshape(-1,1)\n",
    "x = series[:,0:n].reshape(-1,n)\n",
    "y_pred = model.predict(x)*np.pi\n",
    "y_true = y*np.pi\n",
    "ax = plt.gca()\n",
    "ax.cla() # clear things for fresh plot\n",
    "ax.cla()\n",
    "ax.set_xlim([0,t_max])\n",
    "ax.set_ylim([-4.,4.])\n",
    "plt.xlabel('time')\n",
    "plt.ylabel('$\\phi$')\n",
    "plt.plot(t[:len(y_pred)], y_true, color='b')\n",
    "plt.plot(t[:len(y_pred)], y_pred, color='r', linestyle='dashed')\n",
    "plt.savefig(\"prediction_uranus_binary.png\")\n",
    "plt.show()"
   ]
  },
  {
   "cell_type": "code",
   "execution_count": null,
   "metadata": {
    "collapsed": true
   },
   "outputs": [],
   "source": []
  },
  {
   "cell_type": "code",
   "execution_count": null,
   "metadata": {
    "collapsed": true
   },
   "outputs": [],
   "source": []
  },
  {
   "cell_type": "code",
   "execution_count": null,
   "metadata": {
    "collapsed": true
   },
   "outputs": [],
   "source": []
  },
  {
   "cell_type": "code",
   "execution_count": null,
   "metadata": {
    "collapsed": true
   },
   "outputs": [],
   "source": []
  },
  {
   "cell_type": "code",
   "execution_count": null,
   "metadata": {
    "collapsed": true
   },
   "outputs": [],
   "source": []
  },
  {
   "cell_type": "code",
   "execution_count": null,
   "metadata": {
    "collapsed": true
   },
   "outputs": [],
   "source": []
  },
  {
   "cell_type": "markdown",
   "metadata": {
    "collapsed": true
   },
   "source": [
    "# Pendulum system"
   ]
  },
  {
   "cell_type": "code",
   "execution_count": null,
   "metadata": {
    "collapsed": true
   },
   "outputs": [],
   "source": [
    "import numpy as np\n",
    "import pandas as pd\n",
    "\n",
    "import matplotlib.pyplot as plt\n",
    "from Visualisations import *\n",
    "\n",
    "from Transformations import *\n",
    "import Generate as gen\n",
    "\n",
    "n_sim = 50000\n",
    "n_view = 50\n",
    "s = gen.System()\n",
    "s.force = s.force_pendulum_spring\n",
    "s.g = 0.\n",
    "s.k = 0.02\n",
    "s.f = -0.0000001\n",
    "s.add_body(x=[0., 0.], v=[0., 0.], m=1000000., stretch=0.)\n",
    "s.add_body(x=[-0.1, -0.4], v=[0., -0.], m=20000., stretch=0.)\n",
    "s.add_body(x=[-0.1, -0.5], v=[0., -0.], m=10., stretch=0.)\n",
    "\n",
    "s.simulate(n_sim)\n",
    "s.view(1, n_view)\n",
    "\n",
    "ax = plt.gca()\n",
    "ax.cla() # clear things for fresh plot\n",
    "ax.cla()\n",
    "ax.set_xlim([-0.5,0.5])\n",
    "ax.set_ylim([-0.9,0.2])\n",
    "plt.axes().set_aspect('equal')\n",
    "plt.xlabel('x (mm)')\n",
    "plt.ylabel('y (mm)')\n",
    "\n",
    "# Plot only every 't_res'th point, up to t_max\n",
    "t_res = 1\n",
    "t_max = 100\n",
    "plot_orbit(ax, s, 0)\n",
    "plot_orbit(ax, s, 1)\n",
    "plot_orbit(ax, s, 2)\n",
    "\n",
    "plot_position(ax, s, 0, t_res, t_max)\n",
    "plot_position(ax, s, 1, t_res, t_max)\n",
    "plot_position(ax, s, 2, t_res, t_max)\n",
    "\n",
    "plot_observation(ax,s,2,1, t_res, t_max)\n",
    "\n",
    "plt.savefig(\"orbits_pendulum_double_dense.png\")\n",
    "plt.show()"
   ]
  },
  {
   "cell_type": "code",
   "execution_count": null,
   "metadata": {
    "collapsed": true
   },
   "outputs": [],
   "source": [
    "# Plot only every 't_res'th point, up to t_max\n",
    "t_res = 20\n",
    "t_max = n_sim\n",
    "\n",
    "ax = plt.gca()\n",
    "ax.cla() # clear things for fresh plot\n",
    "ax.cla()\n",
    "ax.set_xlim([-0.5,0.5])\n",
    "ax.set_ylim([-0.9,0.2])\n",
    "plt.axes().set_aspect('equal')\n",
    "plt.xlabel('x (mm)')\n",
    "plt.ylabel('y (mm)')\n",
    "\n",
    "plot_orbit(ax, s, 0, t_max)\n",
    "plot_orbit(ax, s, 1, t_max)\n",
    "plot_orbit(ax, s, 2, t_max)\n",
    "\n",
    "plot_position(ax, s, 0, t_res, t_max)\n",
    "plot_position(ax, s, 1, t_res, t_max)\n",
    "plot_position(ax, s, 2, t_res, t_max)\n",
    "\n",
    "plot_observation(ax,s,2,1, t_res, t_max)\n",
    "plt.savefig(\"orbits_pendulum_double_rare.png\")\n",
    "plt.show()\n"
   ]
  },
  {
   "cell_type": "code",
   "execution_count": null,
   "metadata": {
    "collapsed": true
   },
   "outputs": [],
   "source": [
    "ax = plt.gca()\n",
    "ax.cla() # clear things for fresh plot\n",
    "ax.cla()\n",
    "ax.set_xlim([0,n_sim])\n",
    "ax.set_ylim([-4.,4.])\n",
    "plt.xlabel('time')\n",
    "plt.ylabel('$\\phi$')\n",
    "\n",
    "phis = s.get_phi(2)\n",
    "t = np.arange(0, n_sim/n_view)*n_view\n",
    "\n",
    "plt.plot(t, phis)\n",
    "plt.savefig(\"mars_angle_pendulum_double.png\")\n",
    "plt.show()"
   ]
  },
  {
   "cell_type": "code",
   "execution_count": null,
   "metadata": {
    "collapsed": true
   },
   "outputs": [],
   "source": []
  },
  {
   "cell_type": "code",
   "execution_count": null,
   "metadata": {
    "collapsed": true
   },
   "outputs": [],
   "source": []
  },
  {
   "cell_type": "code",
   "execution_count": null,
   "metadata": {
    "collapsed": true
   },
   "outputs": [],
   "source": []
  },
  {
   "cell_type": "code",
   "execution_count": null,
   "metadata": {
    "collapsed": true
   },
   "outputs": [],
   "source": [
    "import numpy as np\n",
    "import pandas as pd\n",
    "\n",
    "import matplotlib.pyplot as plt\n",
    "from Visualisations import *\n",
    "\n",
    "from Transformations import *\n",
    "import Generate as gen\n",
    "\n",
    "n_sim = 10000\n",
    "n_view = 100\n",
    "s = gen.System()\n",
    "s.force = s.force_pendulum_spring\n",
    "s.g = 0.\n",
    "s.k = 0.02\n",
    "s.f = -0.0000001\n",
    "s.add_body(x=[0., 0.], v=[0., 0.], m=100000., stretch=0.)\n",
    "s.add_body(x=[-0.1, -0.2], v=[0., -0.], m=2000., stretch=0.)\n",
    "s.add_body(x=[0., -0.5], v=[0., -0.], m=10., stretch=0.)\n",
    "s.add_body(x=[0.1, -0.6], v=[0., -0.], m=0.01, stretch=0.)\n",
    "\n",
    "s.simulate(n_sim)\n",
    "s.view(1, n_view)\n",
    "\n",
    "ax = plt.gca()\n",
    "ax.cla() # clear things for fresh plot\n",
    "ax.cla()\n",
    "ax.set_xlim([-0.5,0.5])\n",
    "ax.set_ylim([-0.9,0.2])\n",
    "plt.axes().set_aspect('equal')\n",
    "plt.xlabel('x (mm)')\n",
    "plt.ylabel('y (mm)')\n",
    "\n",
    "# Plot only every 't_res'th point, up to t_max\n",
    "t_res = 1\n",
    "t_max = 100\n",
    "plot_orbit(ax, s, 0)\n",
    "plot_orbit(ax, s, 1)\n",
    "plot_orbit(ax, s, 2)\n",
    "plot_orbit(ax, s, 3)\n",
    "\n",
    "plot_position(ax, s, 0, t_res, t_max)\n",
    "plot_position(ax, s, 1, t_res, t_max)\n",
    "plot_position(ax, s, 2, t_res, t_max)\n",
    "plot_position(ax, s, 3, t_res, t_max)\n",
    "\n",
    "plot_observation(ax,s,1,0, t_res, t_max)\n",
    "plot_observation(ax,s,2,1, t_res, t_max)\n",
    "plot_observation(ax,s,3,2, t_res, t_max)\n",
    "\n",
    "plt.savefig(\"orbits_pendulum.png\")\n",
    "plt.show()"
   ]
  },
  {
   "cell_type": "code",
   "execution_count": null,
   "metadata": {
    "collapsed": true
   },
   "outputs": [],
   "source": [
    "# Plot only every 't_res'th point, up to t_max\n",
    "t_res = 20\n",
    "t_max = 500\n",
    "\n",
    "ax = plt.gca()\n",
    "ax.cla() # clear things for fresh plot\n",
    "ax.cla()\n",
    "ax.set_xlim([-0.5,0.5])\n",
    "ax.set_ylim([-0.9,0.2])\n",
    "plt.axes().set_aspect('equal')\n",
    "plt.xlabel('x (mm)')\n",
    "plt.ylabel('y (mm)')\n",
    "\n",
    "plot_orbit(ax, s, 0, t_max)\n",
    "plot_orbit(ax, s, 1, t_max)\n",
    "plot_orbit(ax, s, 2, t_max)\n",
    "plot_orbit(ax, s, 3, t_max)\n",
    "\n",
    "plot_position(ax, s, 0, t_res, t_max)\n",
    "plot_position(ax, s, 1, t_res, t_max)\n",
    "plot_position(ax, s, 2, t_res, t_max)\n",
    "plot_position(ax, s, 3, t_res, t_max)\n",
    "\n",
    "plot_observation(ax,s,1,0, t_res, t_max)\n",
    "plot_observation(ax,s,2,1, t_res, t_max)\n",
    "plot_observation(ax,s,3,2, t_res, t_max)\n",
    "\n"
   ]
  },
  {
   "cell_type": "code",
   "execution_count": null,
   "metadata": {
    "collapsed": true
   },
   "outputs": [],
   "source": []
  },
  {
   "cell_type": "code",
   "execution_count": null,
   "metadata": {
    "collapsed": true
   },
   "outputs": [],
   "source": []
  },
  {
   "cell_type": "code",
   "execution_count": null,
   "metadata": {
    "collapsed": true
   },
   "outputs": [],
   "source": [
    "ax = plt.gca()\n",
    "ax.cla() # clear things for fresh plot\n",
    "ax.cla()\n",
    "ax.set_xlim([0,n_sim])\n",
    "ax.set_ylim([-4.,4.])\n",
    "plt.xlabel('time')\n",
    "plt.ylabel('$\\phi$')\n",
    "\n",
    "\n",
    "phis = s.get_phi(2)\n",
    "t = np.arange(0, n_sim/n_view)*n_view\n",
    "\n",
    "plt.plot(t, phis)\n",
    "plt.savefig(\"mars_angle_pendulum.png\")\n",
    "plt.show()"
   ]
  },
  {
   "cell_type": "code",
   "execution_count": null,
   "metadata": {
    "collapsed": true
   },
   "outputs": [],
   "source": [
    "n = 20\n",
    "phis = s.get_phi(1)\n",
    "phis /= np.pi\n",
    "series = make_time_series(phis, depth=n+1)\n",
    "y = series[:,n].reshape(-1,1)\n",
    "x = series[:,0:n].reshape(-1,n)"
   ]
  },
  {
   "cell_type": "code",
   "execution_count": null,
   "metadata": {
    "collapsed": true
   },
   "outputs": [],
   "source": [
    "from keras.layers import Input, Dense\n",
    "from keras.models import Model\n",
    "\n",
    "inputs = Input(shape=(n,), dtype='float', name='main_input')\n",
    "layer = Dense(90, activation='relu', kernel_initializer='normal')(inputs)\n",
    "layer = Dense(90, activation='relu', kernel_initializer='normal')(layer)\n",
    "predictions = Dense(1, kernel_initializer='normal')(layer)\n",
    "model = Model(inputs=inputs, outputs=predictions)\n",
    "model.compile(optimizer='adam',\n",
    "              loss='mean_squared_error')\n",
    "\n",
    "model.fit(x, y)"
   ]
  },
  {
   "cell_type": "code",
   "execution_count": null,
   "metadata": {
    "collapsed": true
   },
   "outputs": [],
   "source": [
    "t_max = 10000\n",
    "phis = s.get_phi(1)/np.pi\n",
    "series = make_time_series(phis, depth=n+1)\n",
    "y = series[:t_max,n].reshape(-1,1)\n",
    "x = series[:t_max,0:n].reshape(-1,n)\n",
    "y_pred = model.predict(x) * np.pi\n",
    "y_true = y * np.pi\n",
    "ax = plt.gca()\n",
    "ax.cla() # clear things for fresh plot\n",
    "ax.cla()\n",
    "ax.set_xlim([0,t_max])\n",
    "ax.set_ylim([-4.,4.])\n",
    "plt.xlabel('time')\n",
    "plt.ylabel('$\\phi$')\n",
    "plt.plot(t[:len(y_pred)], y_true, color='b')\n",
    "plt.plot(t[:len(y_pred)], y_pred, color='r', linestyle='dashed')\n",
    "plt.savefig(\"prediction_mars_pendulum.png\")\n",
    "plt.show()"
   ]
  },
  {
   "cell_type": "code",
   "execution_count": null,
   "metadata": {
    "collapsed": true
   },
   "outputs": [],
   "source": [
    "phis = s.get_phi(3)/np.pi\n",
    "series = make_time_series(phis, depth=n+1)\n",
    "y = series[:,n].reshape(-1,1)\n",
    "x = series[:,0:n].reshape(-1,n)\n",
    "y_pred = model.predict(x)*np.pi\n",
    "y_true = y*np.pi\n",
    "ax = plt.gca()\n",
    "ax.cla() # clear things for fresh plot\n",
    "ax.cla()\n",
    "ax.set_xlim([0,t_max])\n",
    "ax.set_ylim([-4.,4.])\n",
    "plt.xlabel('time')\n",
    "plt.ylabel('$\\phi$')\n",
    "plt.plot(t[:len(y_pred)], y_true, color='b')\n",
    "plt.plot(t[:len(y_pred)], y_pred, color='r', linestyle='dashed')\n",
    "plt.savefig(\"prediction_uranus_pendulum.png\")\n",
    "plt.show()"
   ]
  },
  {
   "cell_type": "code",
   "execution_count": null,
   "metadata": {
    "collapsed": true
   },
   "outputs": [],
   "source": []
  },
  {
   "cell_type": "code",
   "execution_count": null,
   "metadata": {
    "collapsed": true
   },
   "outputs": [],
   "source": []
  },
  {
   "cell_type": "code",
   "execution_count": null,
   "metadata": {
    "collapsed": true
   },
   "outputs": [],
   "source": []
  },
  {
   "cell_type": "code",
   "execution_count": null,
   "metadata": {
    "collapsed": true
   },
   "outputs": [],
   "source": []
  },
  {
   "cell_type": "code",
   "execution_count": null,
   "metadata": {
    "collapsed": true
   },
   "outputs": [],
   "source": []
  },
  {
   "cell_type": "code",
   "execution_count": null,
   "metadata": {
    "collapsed": true
   },
   "outputs": [],
   "source": []
  },
  {
   "cell_type": "code",
   "execution_count": null,
   "metadata": {
    "collapsed": true
   },
   "outputs": [],
   "source": []
  },
  {
   "cell_type": "code",
   "execution_count": null,
   "metadata": {
    "collapsed": true
   },
   "outputs": [],
   "source": []
  },
  {
   "cell_type": "code",
   "execution_count": null,
   "metadata": {
    "collapsed": true
   },
   "outputs": [],
   "source": []
  },
  {
   "cell_type": "code",
   "execution_count": null,
   "metadata": {
    "collapsed": true
   },
   "outputs": [],
   "source": []
  }
 ],
 "metadata": {
  "kernelspec": {
   "display_name": "Python 3",
   "language": "python",
   "name": "python3"
  },
  "language_info": {
   "codemirror_mode": {
    "name": "ipython",
    "version": 3
   },
   "file_extension": ".py",
   "mimetype": "text/x-python",
   "name": "python",
   "nbconvert_exporter": "python",
   "pygments_lexer": "ipython3",
   "version": "3.6.1"
  }
 },
 "nbformat": 4,
 "nbformat_minor": 2
}
